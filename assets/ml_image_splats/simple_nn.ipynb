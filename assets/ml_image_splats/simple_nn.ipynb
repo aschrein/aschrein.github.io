{
 "cells": [
  {
   "cell_type": "code",
   "execution_count": 15,
   "metadata": {},
   "outputs": [
    {
     "name": "stdout",
     "output_type": "stream",
     "text": [
      "Epoch=255 loss=0.029727697372436523\n"
     ]
    },
    {
     "data": {
      "text/plain": [
       "<matplotlib.image.AxesImage at 0x1a961301670>"
      ]
     },
     "execution_count": 15,
     "metadata": {},
     "output_type": "execute_result"
    },
    {
     "data": {
      "image/png": "[encoded data removed]",
      "text/plain": [
       "<Figure size 432x288 with 1 Axes>"
      ]
     },
     "metadata": {
      "needs_background": "light"
     },
     "output_type": "display_data"
    }
   ],
   "source": [
    "import torch\n",
    "import torch.nn as nn\n",
    "import torch.nn.functional as F\n",
    "from PIL import Image\n",
    "import numpy as np\n",
    "import pandas as pd\n",
    "from torch import optim\n",
    "\n",
    "\n",
    "class SimpleNetwork(nn.Module):\n",
    "    def __init__(self):\n",
    "        super().__init__()\n",
    "        hidden_dimensions = 16\n",
    "        self.input = nn.Linear(in_features=2, out_features=hidden_dimensions)\n",
    "        self.hidden_1 = nn.Linear(\n",
    "            in_features=hidden_dimensions, out_features=hidden_dimensions)\n",
    "        self.hidden_2 = nn.Linear(\n",
    "            in_features=hidden_dimensions, out_features=hidden_dimensions)\n",
    "        self.hidden_3 = nn.Linear(\n",
    "            in_features=hidden_dimensions, out_features=hidden_dimensions)\n",
    "        self.output = nn.Linear(in_features=hidden_dimensions, out_features=1)\n",
    "\n",
    "        # Initialize weights to random with normal distribution\n",
    "        nn.init.normal_(self.input.weight,    mean=0.0, std=1.0)\n",
    "        nn.init.normal_(self.hidden_1.weight, mean=0.0, std=1.0)\n",
    "        nn.init.normal_(self.hidden_2.weight, mean=0.0, std=1.0)\n",
    "        nn.init.normal_(self.hidden_3.weight, mean=0.0, std=1.0)\n",
    "        nn.init.normal_(self.output.weight,   mean=0.0, std=1.0)\n",
    "\n",
    "    def forward(self, xy):\n",
    "        v = torch.tanh(self.input(xy))\n",
    "        v = torch.tanh(self.hidden_1(v))\n",
    "        v = torch.tanh(self.hidden_2(v))\n",
    "        v = torch.tanh(self.hidden_3(v))\n",
    "        return torch.tanh(self.output(v))\n",
    "\n",
    "\n",
    "N = 1 << 5\n",
    "random_points_x = torch.rand((N))\n",
    "random_points_y = torch.rand((N))\n",
    "target_classes = (torch.rand((N)) > 0.5) * 1.0 # 2 classes: [0.0, 1.0] 1.0 if rand() > 0.5 else 0.0\n",
    "random_points = torch.transpose(\n",
    "    torch.cat((random_points_x.view(1, N), random_points_y.view(1, N)), 0), 0, 1)\n",
    "\n",
    "\n",
    "num_epochs = 1 << 8\n",
    "\n",
    "model = SimpleNetwork().cpu()\n",
    "optimizer = optim.AdamW(model.parameters(), lr=0.001)\n",
    "isize = 128\n",
    "\n",
    "import shutil\n",
    "import os\n",
    "\n",
    "try:\n",
    "    shutil.rmtree('.scratch')\n",
    "except:\n",
    "    pass\n",
    "os.mkdir('.scratch')\n",
    "\n",
    "def evaluate():\n",
    "    # Evaluate\n",
    "    results = np.zeros((isize, isize, 4), dtype=np.uint8)\n",
    "    for y in range(0, isize):\n",
    "        for x in range(0, isize):\n",
    "            predicted_class = model(torch.tensor(\n",
    "                [(float(x) + 0.5) / isize, (float(y) + 0.5) / isize]))\n",
    "            c = predicted_class.detach().cpu().clamp(0.0, 1.0).numpy()[0]\n",
    "            results[y][x][0] = int((c) * 255.0)\n",
    "            results[y][x][1] = 0\n",
    "            results[y][x][2] = int((1.0 - c) * 255.0)\n",
    "            results[y][x][3] = 255\n",
    "\n",
    "    for i, (fx, fy) in enumerate(zip(random_points_x, random_points_y)):\n",
    "        x = int(fx * isize)\n",
    "        y = int(fy * isize)\n",
    "        c = 1.0 - target_classes[i]\n",
    "        results[y][x][0] = int((1.0 - c) * 255.0)\n",
    "        results[y][x][1] = int((1.0 - c) * 255.0)\n",
    "        results[y][x][2] = int((1.0 - c) * 255.0)\n",
    "        results[y][x][3] = 255\n",
    "    return results\n",
    "\n",
    "from matplotlib import pyplot as plt\n",
    "\n",
    "def dump_image(id):\n",
    "    out = evaluate()\n",
    "    # out = out.clamp(0.0, 1.0)\n",
    "    plt.imsave(\".scratch/out_\" + str(id) + \".png\", out)\n",
    "\n",
    "\n",
    "for epoch in range(0, num_epochs):\n",
    "    for i in range(0, N):\n",
    "        point = random_points[i]\n",
    "        target_class = target_classes[i]\n",
    "        predicted_class = model(point)\n",
    "        loss = (predicted_class - target_class).square().mean().sqrt()\n",
    "        optimizer.zero_grad()\n",
    "        loss.backward()\n",
    "        optimizer.step()\n",
    "    dump_image(epoch)\n",
    "    # print(f\"Epoch={epoch} loss={loss}\")\n",
    "print(f\"Epoch={epoch} loss={loss}\")\n",
    "\n",
    "results = evaluate()\n",
    "plt.figure()\n",
    "plt.imshow(results)\n",
    "# plt.scatter(x=random_points_x * isize, y=random_points_y * isize, c=(1.0 - target_classes), s=40)"
   ]
  },
  {
   "cell_type": "code",
   "execution_count": 16,
   "metadata": {},
   "outputs": [],
   "source": [
    "from moviepy.editor import *\n",
    "import cv2\n",
    "fourcc = cv2.VideoWriter_fourcc(*\"H264\")\n",
    "video = cv2.VideoWriter(\"nn_video_1.mp4\", fourcc, 24, (isize, isize))\n",
    "gen = {}\n",
    "for n in range(0, num_epochs):\n",
    "    image = cv2.imread(f\".scratch/out_\" + str(n) + \".png\")\n",
    "    video.write(image)\n",
    "video.release()"
   ]
  }
 ],
 "metadata": {
  "kernelspec": {
   "display_name": "Python 3.9.13 64-bit (microsoft store)",
   "language": "python",
   "name": "python3"
  },
  "language_info": {
   "codemirror_mode": {
    "name": "ipython",
    "version": 3
   },
   "file_extension": ".py",
   "mimetype": "text/x-python",
   "name": "python",
   "nbconvert_exporter": "python",
   "pygments_lexer": "ipython3",
   "version": "3.9.13"
  },
  "orig_nbformat": 4,
  "vscode": {
   "interpreter": {
    "hash": "5a6cafc416fcbdc0779f367b2bb4967aeafd24113a6926abdbb2fb496248c30d"
   }
  }
 },
 "nbformat": 4,
 "nbformat_minor": 2
}
